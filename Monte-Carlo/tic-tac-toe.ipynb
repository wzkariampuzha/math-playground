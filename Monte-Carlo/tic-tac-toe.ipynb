{
 "cells": [
  {
   "cell_type": "markdown",
   "metadata": {},
   "source": [
    "The purpose of this notebook is to train a computer system to play optimal tic-tac-toe using a Monte Carlo method. Basic RL and maybe game theory will be explored. \n",
    "TO DO SO:\n",
    "1. Create a basic interactive tic-tac-toe system\n",
    "2. Figure out the approach to take\n",
    "3. Figure out which format to save the data\n",
    "4. Run simuls\n",
    "5. Save the model."
   ]
  },
  {
   "cell_type": "code",
   "execution_count": 7,
   "metadata": {},
   "outputs": [
    {
     "data": {
      "text/html": [
       "<style type=\"text/css\">\n",
       "table.dataframe td, table.dataframe th {\n",
       "    border: 0.5px  black solid !important;\n",
       "  color: black !important;\n",
       "}\n"
      ],
      "text/plain": [
       "<IPython.core.display.HTML object>"
      ]
     },
     "metadata": {},
     "output_type": "display_data"
    }
   ],
   "source": [
    "%%HTML\n",
    "<style type=\"text/css\">\n",
    "table.dataframe td, table.dataframe th {\n",
    "    border: 0.5px  black solid !important;\n",
    "  color: black !important;\n",
    "}"
   ]
  },
  {
   "cell_type": "code",
   "execution_count": 8,
   "metadata": {},
   "outputs": [],
   "source": [
    "from pandas import DataFrame\n",
    "class TTT:\n",
    "    def __init__(self,size):\n",
    "        import string\n",
    "        if size<=26:\n",
    "            self.letters = list(string.ascii_uppercase)[:size]\n",
    "        else:\n",
    "            raise ValueError('Size must be less than 26.')\n",
    "        \n",
    "        #self.entries = [str(letter+str(num)) for letter in self.letters for num in self.numbers]\n",
    "        self.values = {letter:[0 for number in range(size)] for letter in self.letters}\n",
    "        #self.values = dict.fromkeys(self.letters,[0 for number in range(size)])\n",
    "        #self.values = dict.fromkeys(entries,'')\n",
    "        \n",
    "    def display(self):\n",
    "        df = DataFrame.from_dict(self.values)\n",
    "        df.replace(to_replace={0: '', 1: 'O', 2:'X'},inplace=True)\n",
    "        df.index +=1\n",
    "        return df\n",
    "    \n",
    "    def victory(self):\n",
    "        #X = 2, if sum of \n",
    "        X = 2*len(self.letters)\n",
    "        O = len(self.letters)\n",
    "        print(X,O)\n",
    "        for row in self.values():\n",
    "            #if row is empty skip\n",
    "            if not any(row): continue\n",
    "            \n",
    "            if sum(row)==X: return \"X\"\n",
    "            if sum(row)==O: return \n",
    "        #else: return None\n",
    "        \n",
    "        victory = False\n",
    "        for letter in self.letters:\n",
    "            #replace all of the marks with empty, if all are replaced, then 'any' will return False, \n",
    "            line = [entry.replace(mark,'') for entry in values[letter]]\n",
    "            if not any(line): return True\n",
    "        \n",
    "        for num in self.numbers:\n",
    "            pass\n",
    "            \n",
    "            \n",
    "        else: return False"
   ]
  },
  {
   "cell_type": "code",
   "execution_count": 9,
   "metadata": {},
   "outputs": [
    {
     "data": {
      "text/plain": [
       "{'A': [0, 0, 0, 0], 'B': [0, 0, 0, 0], 'C': [0, 0, 0, 0], 'D': [0, 0, 0, 0]}"
      ]
     },
     "execution_count": 9,
     "metadata": {},
     "output_type": "execute_result"
    }
   ],
   "source": [
    "game = TTT(4)\n",
    "game.values"
   ]
  },
  {
   "cell_type": "code",
   "execution_count": 10,
   "metadata": {},
   "outputs": [],
   "source": [
    "game.values['A'][2]+=2"
   ]
  },
  {
   "cell_type": "code",
   "execution_count": 11,
   "metadata": {},
   "outputs": [
    {
     "data": {
      "text/plain": [
       "{'A': [0, 0, 2, 0], 'B': [0, 0, 0, 0], 'C': [0, 0, 0, 0], 'D': [0, 0, 0, 0]}"
      ]
     },
     "execution_count": 11,
     "metadata": {},
     "output_type": "execute_result"
    }
   ],
   "source": [
    "game.values"
   ]
  },
  {
   "cell_type": "code",
   "execution_count": 12,
   "metadata": {},
   "outputs": [
    {
     "data": {
      "text/html": [
       "<div>\n",
       "<style scoped>\n",
       "    .dataframe tbody tr th:only-of-type {\n",
       "        vertical-align: middle;\n",
       "    }\n",
       "\n",
       "    .dataframe tbody tr th {\n",
       "        vertical-align: top;\n",
       "    }\n",
       "\n",
       "    .dataframe thead th {\n",
       "        text-align: right;\n",
       "    }\n",
       "</style>\n",
       "<table border=\"1\" class=\"dataframe\">\n",
       "  <thead>\n",
       "    <tr style=\"text-align: right;\">\n",
       "      <th></th>\n",
       "      <th>A</th>\n",
       "      <th>B</th>\n",
       "      <th>C</th>\n",
       "      <th>D</th>\n",
       "    </tr>\n",
       "  </thead>\n",
       "  <tbody>\n",
       "    <tr>\n",
       "      <th>1</th>\n",
       "      <td></td>\n",
       "      <td></td>\n",
       "      <td></td>\n",
       "      <td></td>\n",
       "    </tr>\n",
       "    <tr>\n",
       "      <th>2</th>\n",
       "      <td></td>\n",
       "      <td></td>\n",
       "      <td></td>\n",
       "      <td></td>\n",
       "    </tr>\n",
       "    <tr>\n",
       "      <th>3</th>\n",
       "      <td>X</td>\n",
       "      <td></td>\n",
       "      <td></td>\n",
       "      <td></td>\n",
       "    </tr>\n",
       "    <tr>\n",
       "      <th>4</th>\n",
       "      <td></td>\n",
       "      <td></td>\n",
       "      <td></td>\n",
       "      <td></td>\n",
       "    </tr>\n",
       "  </tbody>\n",
       "</table>\n",
       "</div>"
      ],
      "text/plain": [
       "   A B C D\n",
       "1         \n",
       "2         \n",
       "3  X      \n",
       "4         "
      ]
     },
     "execution_count": 12,
     "metadata": {},
     "output_type": "execute_result"
    }
   ],
   "source": [
    "game.display()"
   ]
  },
  {
   "cell_type": "code",
   "execution_count": null,
   "metadata": {},
   "outputs": [],
   "source": [
    "any(game.values['B'])"
   ]
  }
 ],
 "metadata": {
  "kernelspec": {
   "display_name": "Python 3",
   "language": "python",
   "name": "python3"
  },
  "language_info": {
   "codemirror_mode": {
    "name": "ipython",
    "version": 3
   },
   "file_extension": ".py",
   "mimetype": "text/x-python",
   "name": "python",
   "nbconvert_exporter": "python",
   "pygments_lexer": "ipython3",
   "version": "3.8.3"
  }
 },
 "nbformat": 4,
 "nbformat_minor": 4
}
