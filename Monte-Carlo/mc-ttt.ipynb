{
 "cells": [
  {
   "cell_type": "markdown",
   "metadata": {},
   "source": [
    "## Monte Carlo Tic Tac Toe"
   ]
  },
  {
   "cell_type": "code",
   "execution_count": 1,
   "metadata": {},
   "outputs": [],
   "source": [
    "import random\n",
    "from poc_ttt_gui import run_gui\n",
    "import poc_ttt_provided as provided"
   ]
  },
  {
   "cell_type": "code",
   "execution_count": 2,
   "metadata": {},
   "outputs": [],
   "source": [
    "NTRIALS = 1000\n",
    "SCORE_CURRENT = 1\n",
    "SCORE_OTHER = 1"
   ]
  },
  {
   "cell_type": "code",
   "execution_count": 3,
   "metadata": {},
   "outputs": [],
   "source": [
    "def mc_trial(board, player):\n",
    "    \"\"\"\n",
    "    plays the random game\n",
    "    \"\"\"\n",
    "    while board.check_win() == None:\n",
    "        spot = random.choice(board.get_empty_squares())\n",
    "        board.move(spot[0], spot[1], player)\n",
    "        player = provided.switch_player(player)"
   ]
  },
  {
   "cell_type": "code",
   "execution_count": 4,
   "metadata": {},
   "outputs": [],
   "source": [
    "def mc_update_scores(scores, board, player):\n",
    "    \"\"\"\n",
    "    adds the game results to the scoreboard\n",
    "    \"\"\"\n",
    "    if board.check_win() == 4:\n",
    "        pass\n",
    "    elif player == board.check_win():\n",
    "        for row in range(board.get_dim()):\n",
    "            for column in range(board.get_dim()):\n",
    "                \n",
    "                if board.square(row,column) == player:\n",
    "                    scores[row][column] += SCORE_CURRENT\n",
    "                elif board.square(row,column) == 1:\n",
    "                    pass\n",
    "                else:\n",
    "                    scores[row][column] -= SCORE_OTHER\n",
    "                    \n",
    "    elif player != board.check_win():\n",
    "        for row in range(board.get_dim()):\n",
    "            for column in range(board.get_dim()):\n",
    "                \n",
    "                if board.square(row,column) == player:\n",
    "                    scores[row][column] -= SCORE_CURRENT\n",
    "                elif board.square(row,column) == 1:\n",
    "                    pass\n",
    "                else:\n",
    "                    scores[row][column] += SCORE_OTHER"
   ]
  },
  {
   "cell_type": "code",
   "execution_count": 5,
   "metadata": {},
   "outputs": [],
   "source": [
    "def get_best_move(board, scores):\n",
    "    \"\"\"\n",
    "    finds the best move\n",
    "    \"\"\"\n",
    "    max_score = -100\n",
    "    for option in board.get_empty_squares():\n",
    "        max_score = max(scores[option[0]][option[1]], max_score)\n",
    "    \n",
    "    best_options = [option for option in board.get_empty_squares() if scores[option[0]][option[1]] == max_score]\n",
    "    \n",
    "    return random.choice(best_options)"
   ]
  },
  {
   "cell_type": "code",
   "execution_count": 7,
   "metadata": {},
   "outputs": [],
   "source": [
    "def mc_move(board, player, trials):\n",
    "    \"\"\"\n",
    "    makes the moves\n",
    "    \"\"\"\n",
    "    scores = [[] for rows in range(board.get_dim())]\n",
    "    \n",
    "    for rows in scores:\n",
    "        for columns in range(board.get_dim()):\n",
    "             scores[columns].append(0)    \n",
    "                \n",
    "    for count in range(trials):\n",
    "        board1 = board.clone()\n",
    "        mc_trial(board1, player)\n",
    "        mc_update_scores(scores, board1, player)\n",
    "        \n",
    "    return get_best_move(board, scores)    "
   ]
  },
  {
   "cell_type": "code",
   "execution_count": null,
   "metadata": {
    "scrolled": false
   },
   "outputs": [],
   "source": [
    "board = provided.TTTBoard(3, False)\n",
    "print(board)"
   ]
  },
  {
   "cell_type": "code",
   "execution_count": null,
   "metadata": {},
   "outputs": [],
   "source": [
    "board.get_empty_squares()"
   ]
  },
  {
   "cell_type": "code",
   "execution_count": null,
   "metadata": {},
   "outputs": [],
   "source": [
    "board.move(0, 1, 3)"
   ]
  },
  {
   "cell_type": "code",
   "execution_count": null,
   "metadata": {
    "scrolled": true
   },
   "outputs": [],
   "source": [
    "print(board)"
   ]
  },
  {
   "cell_type": "code",
   "execution_count": null,
   "metadata": {
    "scrolled": true
   },
   "outputs": [],
   "source": [
    "mc_move(board, provided.PLAYERX, 1000)"
   ]
  },
  {
   "cell_type": "code",
   "execution_count": 9,
   "metadata": {},
   "outputs": [],
   "source": [
    "board_size = 3\n",
    "ai_player = provided.PLAYERO\n",
    "ai_function = mc_move\n",
    "run_gui(board_size, ai_player, ai_function, NTRIALS)"
   ]
  }
 ],
 "metadata": {
  "kernelspec": {
   "display_name": "Python [conda env:math-play]",
   "language": "python",
   "name": "conda-env-math-play-py"
  },
  "language_info": {
   "codemirror_mode": {
    "name": "ipython",
    "version": 3
   },
   "file_extension": ".py",
   "mimetype": "text/x-python",
   "name": "python",
   "nbconvert_exporter": "python",
   "pygments_lexer": "ipython3",
   "version": "3.10.4"
  }
 },
 "nbformat": 4,
 "nbformat_minor": 4
}
